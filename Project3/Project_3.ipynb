{
 "cells": [
  {
   "cell_type": "markdown",
   "id": "da137916-9470-4cbf-b993-ad76484a593d",
   "metadata": {},
   "source": [
    "# Functions in project 2"
   ]
  },
  {
   "cell_type": "code",
   "execution_count": 1,
   "id": "200bc5de-8a34-44ba-b06a-16a95e63a0a3",
   "metadata": {},
   "outputs": [],
   "source": [
    "import keyboard\n",
    "import time\n",
    "import wave\n",
    "import pyaudio\n",
    "import numpy as np\n",
    "import IPython.display as ipd\n",
    "import matplotlib.pyplot as plt\n",
    "\n",
    "# Divide signal data into 20ms segements with 10ms interval for every two consecutive ones \n",
    "def create_segments(signal,sample_rate,width=10):\n",
    "    num=int(width*sample_rate/1000)\n",
    "    # first divide signal into 10ms segments\n",
    "    ten_ms_segments = [signal[i:i+num] for i in range(0, len(signal), num)]\n",
    "    twenty_ms_segments =[]\n",
    "    for j in range(len(ten_ms_segments)):\n",
    "        if j!=0:\n",
    "            l1=ten_ms_segments[j-1]\n",
    "            l2=ten_ms_segments[j]\n",
    "            l=[0 for i in range(num*2)]\n",
    "            for k in range(len(l1)):\n",
    "                l[k]=l1[k]\n",
    "                l[k+len(l1)]=l2[k]\n",
    "            twenty_ms_segments.append(l)\n",
    "    return twenty_ms_segments\n",
    "\n",
    "# Preemphasize each segement\n",
    "def Preemphasizing(segment):\n",
    "    pre=np.zeros(len(segment))\n",
    "    pre[0]=segment[0]\n",
    "    for i in range(1,len(segment)):\n",
    "        pre[i]=segment[i]-0.95*segment[i-1]\n",
    "    return pre\n",
    "\n",
    "# Window each preemphasized segement\n",
    "def windowing(pre):\n",
    "    pre=pre*np.hamming(len(pre))\n",
    "    return pre\n",
    "\n",
    "# Zero pad each windowed segement\n",
    "def zero_padding(windowed):\n",
    "    #zero padding for FFT\n",
    "    length=512\n",
    "    windowed_len=len(windowed)\n",
    "    padding_len=length-windowed_len\n",
    "    zeros=np.zeros((padding_len,))\n",
    "    zero_padded=np.concatenate((windowed,zeros))\n",
    "    return zero_padded\n",
    "\n",
    "# Calculate the power spectrum of a segement\n",
    "def FFT(frame):\n",
    "    length=512\n",
    "    fft=np.fft.rfft(frame, length)\n",
    "    magnitude = np.abs(fft)\n",
    "    power = ((1.0 / length) * ((magnitude) ** 2)) \n",
    "\n",
    "    return power\n",
    "\n",
    "# Mel warping function\n",
    "def warping_function(Hz):\n",
    "    Mel = 2595 * np.log10(1+Hz/700)\n",
    "    return Mel\n",
    "# inverse function\n",
    "def inverse_warping(Mel):\n",
    "    Hz = 700*(np.power(10,Mel/2595)-1) \n",
    "    return Hz\n",
    "\n",
    "# calculate mel spectra and log mel spectra\n",
    "def filterbanks(power,filter_num,minHz=133.33,maxHz=6855.4976,length=512):\n",
    "    maxMel=warping_function(maxHz)\n",
    "    minMel=warping_function(minHz)\n",
    "    #get start and end points of triangle filters in Mel\n",
    "    pointsInMel=np.linspace(minMel,maxMel,filter_num+2)\n",
    "    #get start and end points of triangle filters in Hz\n",
    "    pointsInHz=inverse_warping(pointsInMel)\n",
    "    #get start and end points of tiangle filters in total 257 points\n",
    "    ranges=np.floor(length/2*pointsInHz/(maxHz-minHz))\n",
    "    #normalize the triangle filters according to the lower bound\n",
    "    ranges=ranges-ranges[0]\n",
    "    #create filter banks with size(number of filters=40, points in power spectrum=257)\n",
    "    filter_banks=np.zeros((filter_num,len(power)))\n",
    "    for i in range(1,filter_num+1): \n",
    "        #get the left half of the traingle\n",
    "        for j in range(int(ranges[i-1]),int(ranges[i])):\n",
    "            filter_banks[i-1,j]=(j-ranges[i-1])/(ranges[i]-ranges[i-1])\n",
    "        #get the right half of the traingle\n",
    "        for j in range(int(ranges[i]),int(ranges[i+1])):\n",
    "            filter_banks[i-1,j]=(ranges[i+1]-j)/(ranges[i+1]-ranges[i])\n",
    "    #mel spectrum\n",
    "    filter_banks=filter_banks.T\n",
    "    Mel=np.dot(power,filter_banks)\n",
    "    Mel=np.where(Mel==0,np.finfo(float).eps,Mel)\n",
    "    #log mel spectrum\n",
    "    Log_Mel=10*np.log(Mel) \n",
    "    return Mel,Log_Mel\n",
    "\n",
    "from scipy.fftpack import dct,idct\n",
    "# use dct to get the cepstral_coefficients\n",
    "def mel_cepstrum(log_mel):\n",
    "    cepstral_coefficients=dct(log_mel,axis=-1, type=2, norm='ortho')\n",
    "    return cepstral_coefficients[:13]\n",
    "\n",
    "# get idct\n",
    "def IDCT(log_mel,num):\n",
    "    IDCT_coefficients=idct(log_mel,type=2, n=num, norm='ortho')\n",
    "    return IDCT_coefficients\n",
    "\n",
    "# get log mel spectrum matrix, mel cpestrum matrix and idct matrix, given segments\n",
    "def get_matrix(segments,num):\n",
    "    Mel_cepstrum_matrix=[]\n",
    "    log_Mel_spectrum_matrix=[]\n",
    "    IDCT_matrix=[]\n",
    "    for i in range(len(segments)):\n",
    "        preemphasized=Preemphasizing(segments[i])\n",
    "        windowed=windowing(preemphasized)\n",
    "        zero_padded=zero_padding(windowed)\n",
    "        power_spectrum=FFT(zero_padded)\n",
    "        Mel_spectrum, log_Mel_spectrum=filterbanks(power_spectrum,num)\n",
    "        log_Mel_spectrum_matrix.append(log_Mel_spectrum)\n",
    "        Mel_cepstrum=mel_cepstrum(log_Mel_spectrum)\n",
    "        Mel_cepstrum_matrix.append(Mel_cepstrum)\n",
    "        IDCT_spectrum=IDCT(Mel_cepstrum,num)\n",
    "        IDCT_matrix.append(IDCT_spectrum)\n",
    "    return log_Mel_spectrum_matrix,Mel_cepstrum_matrix,IDCT_matrix\n",
    "#plot the spectrum and cepstrum\n",
    "def plot_show(matrix, title):\n",
    "    plt.figure(figsize=(15, 8))\n",
    "    plt.subplot(311)\n",
    "    plt.imshow(matrix.T, origin='lower')\n",
    "    plt.title(title)\n",
    "\n",
    "#load wav file\n",
    "def load_wav(file_path):\n",
    "    wav_file = wave.open(file_path, 'r')\n",
    "    # Get the audio data\n",
    "    frames = wav_file.readframes(-1)\n",
    "    signal = np.frombuffer(frames, dtype=np.int16)\n",
    "\n",
    "    # Get the sample rate and time axis\n",
    "    sample_rate = wav_file.getframerate()\n",
    "    duration = len(signal) / sample_rate\n",
    "    time = np.linspace(0., duration, len(signal))\n",
    "    \n",
    "    # Close the WAV file\n",
    "    wav_file.close()\n",
    "    return signal, sample_rate"
   ]
  },
  {
   "cell_type": "markdown",
   "id": "9bc56f44-63ac-42d8-9945-703ff9a7d57d",
   "metadata": {},
   "source": [
    "# Mean subtraction and variance normalization"
   ]
  },
  {
   "cell_type": "code",
   "execution_count": 2,
   "id": "4938f827-179e-412a-b4cc-aee8f9ce9c6a",
   "metadata": {},
   "outputs": [],
   "source": [
    "def mean_subtraction(matrix):\n",
    "    means = np.mean(matrix, axis=0)/(np.shape(matrix)[0])\n",
    "    matrix=matrix-means\n",
    "    return matrix\n",
    "\n",
    "def var_normalization(matrix):\n",
    "    sd=np.sqrt(np.sum(np.square(matrix),axis=0)/(np.shape(matrix)[0]))\n",
    "    return matrix*(1/sd)"
   ]
  },
  {
   "cell_type": "markdown",
   "id": "d6c2a33a-fd67-4baa-9136-55375b7beb44",
   "metadata": {},
   "source": [
    "## Get cepstrum feature"
   ]
  },
  {
   "cell_type": "code",
   "execution_count": 3,
   "id": "17376065-c7a8-4c17-9e2e-9e40d278a92a",
   "metadata": {},
   "outputs": [],
   "source": [
    "def get_cepstrum_features(file):\n",
    "    signal, sample_rate=load_wav(file)\n",
    "    seg=create_segments(signal,sample_rate)\n",
    "    log_mel_spectrum_matrix,mel_cepstrum_matrix,IDCT_matrix=get_matrix(seg,40)\n",
    "    log_mel_spectrum_matrix,mel_cepstrum_matrix,IDCT_matrix=np.array(log_mel_spectrum_matrix),np.array(mel_cepstrum_matrix),np.array(IDCT_matrix)\n",
    "\n",
    "    mean_subtracted=mean_subtraction(mel_cepstrum_matrix)\n",
    "    var_normalized=var_normalization(mean_subtracted)\n",
    "    return var_normalized"
   ]
  },
  {
   "cell_type": "markdown",
   "id": "bec4ff3c-8f4a-49cb-9960-fce1460e2d0a",
   "metadata": {},
   "source": [
    "## DTW"
   ]
  },
  {
   "cell_type": "code",
   "execution_count": 76,
   "id": "44559c0e-a774-4968-9b9c-62d144387f66",
   "metadata": {},
   "outputs": [],
   "source": [
    "# calculate the Euclidean distance between two feature vectors\n",
    "def euclidean_distance(a, b):\n",
    "    return np.sqrt(np.sum((a - b) ** 2))\n",
    "\n",
    "\n",
    "def DTW(input, template):       \n",
    "    new_array=np.full(len(template),np.inf)\n",
    "    old_array=np.full(len(template),np.inf)\n",
    "    for i in range(len(input)):\n",
    "        if i==0:\n",
    "            old_array[0]=euclidean_distance(input[i],template[0])\n",
    "        else:\n",
    "            for j in range(len(template)):\n",
    "                if j==0:\n",
    "                    new_array[0]=old_array[0]+euclidean_distance(input[i], template[j])\n",
    "                elif j==1:\n",
    "                    cost=min(old_array[j-1],old_array[j])\n",
    "                    new_array[1]=euclidean_distance(input[i],template[j])+cost\n",
    "                else:\n",
    "                    cost=min(old_array[j-1],old_array[j-2],old_array[j])\n",
    "                    new_array[j]=euclidean_distance(input[i],template[j])+cost\n",
    "            old_array=new_array\n",
    "            new_array=np.full(len(template),np.inf)\n",
    "               \n",
    "    # Return the DTW distance\n",
    "    return old_array[len(template)-1]"
   ]
  },
  {
   "cell_type": "code",
   "execution_count": 5,
   "id": "ddf67a67-e48f-4156-bef2-ab7c97fb87d5",
   "metadata": {},
   "outputs": [],
   "source": [
    "template_feature_matrix=[]\n",
    "for i in range(10):\n",
    "    template_feature=get_cepstrum_features(str(i)+'_template.wav')\n",
    "    template_feature_matrix.append(template_feature)\n",
    "dtw_result=np.zeros((10,2))\n",
    "\n",
    "def DTW_recognition(templates):\n",
    "    result=np.zeros((len(templates),2))\n",
    "    for i in range(len(templates)):\n",
    "        for j in range(1,3):\n",
    "            training_feature=get_cepstrum_features(str(i)+'_training_'+str(j)+'.wav')\n",
    "            dtw=DTW(training_feature,templates[0])\n",
    "            type=0\n",
    "            for k in range(1,10):\n",
    "                cur_dtw=DTW(training_feature,template_feature_matrix[k])\n",
    "                if cur_dtw<dtw:\n",
    "                    dtw=cur_dtw\n",
    "                    type=k\n",
    "            result[i][j-1]=type\n",
    "    return result"
   ]
  },
  {
   "cell_type": "markdown",
   "id": "5a477845-9287-4040-900b-a079d2b025f4",
   "metadata": {},
   "source": [
    "## Simple DTW accuracy"
   ]
  },
  {
   "cell_type": "code",
   "execution_count": 77,
   "id": "18178a05-677b-465b-920a-d06ca43e38c3",
   "metadata": {},
   "outputs": [
    {
     "name": "stdout",
     "output_type": "stream",
     "text": [
      "[[0. 0.]\n",
      " [1. 1.]\n",
      " [2. 2.]\n",
      " [3. 3.]\n",
      " [1. 4.]\n",
      " [5. 5.]\n",
      " [6. 6.]\n",
      " [7. 7.]\n",
      " [8. 8.]\n",
      " [9. 9.]]\n",
      "DTW Accuracy: 0.95\n",
      "Runtime: 15.168954 seconds\n"
     ]
    }
   ],
   "source": [
    "start_time = time.time()\n",
    "\n",
    "a = np.arange(10).reshape(10, 1)\n",
    "correct_classifications = np.hstack((a,a))\n",
    "dtw_result=DTW_recognition(template_feature_matrix)\n",
    "print(dtw_result)\n",
    "differing_positions = dtw_result != correct_classifications\n",
    "print('DTW Accuracy:',1-np.sum(differing_positions)/20)\n",
    "\n",
    "end_time = time.time()\n",
    "# Calculate the runtime\n",
    "runtime = end_time - start_time\n",
    "print(\"Runtime: {:.6f} seconds\".format(runtime))"
   ]
  },
  {
   "cell_type": "markdown",
   "id": "bfccb37e-30a1-4529-a13e-55ff6c7a5b24",
   "metadata": {},
   "source": [
    "## Time-synchronous DTW"
   ]
  },
  {
   "cell_type": "code",
   "execution_count": 27,
   "id": "58f9e41f-80a9-4bc1-9f85-358495a9efe1",
   "metadata": {},
   "outputs": [],
   "source": [
    "def Time_synchronous_DTW(input,templates):     \n",
    "    template_len=[0]\n",
    "    for i in range(10):\n",
    "        if i==0: template_len.append(np.shape(templates[i])[0])\n",
    "        else: template_len.append(template_len[-1]+np.shape(templates[i])[0])\n",
    "    # template_len = [0, 99, 168, 267, 366, 465, 564, 663, 762, 861, 960]\n",
    "    new_array=np.full(template_len[-1],np.inf)\n",
    "    old_array=np.full(template_len[-1],np.inf)\n",
    "    # i represents the number of vectors in the input\n",
    "    for i in range(len(input)):\n",
    "        if i==0:\n",
    "            for k in range(len(template_len)-1):\n",
    "                old_array[template_len[k]]=euclidean_distance(templates[k][0],input[i])\n",
    "        else:\n",
    "            for k in range(len(template_len)-1):\n",
    "                low=template_len[k]\n",
    "                high=template_len[k+1]\n",
    "                new_array[low]=old_array[low]+euclidean_distance(templates[k][0],input[i])\n",
    "                new_array[low+1]=min(old_array[low+1],old_array[low])+euclidean_distance(templates[k][1],input[i])\n",
    "                for j in range(low+2,high): \n",
    "                    cost=min(old_array[j-2],old_array[j-1],old_array[j])\n",
    "                    new_array[j]=euclidean_distance(templates[k][j-low],input[i])+cost\n",
    "            old_array=new_array\n",
    "            new_array=np.full(template_len[-1],np.inf)\n",
    "            \n",
    "    type=0\n",
    "    dtw=old_array[template_len[1]-1]\n",
    "    for i in range(2,len(template_len)):\n",
    "        dist=old_array[template_len[i]-1]\n",
    "        if dist<dtw:\n",
    "            dtw=dist\n",
    "            type=i-1\n",
    "    return type\n",
    "        \n"
   ]
  },
  {
   "cell_type": "code",
   "execution_count": 25,
   "id": "2bd89970-9dc5-43c7-b31f-2c21e31ef660",
   "metadata": {},
   "outputs": [],
   "source": [
    "def TS_DTW_recognition(templates):\n",
    "    result=np.zeros((len(templates),2))\n",
    "    for i in range(len(templates)):\n",
    "        for j in range(1,3):\n",
    "            training_feature=get_cepstrum_features(str(i)+'_training_'+str(j)+'.wav')\n",
    "            type=Time_synchronous_DTW(training_feature,templates)\n",
    "            result[i][j-1]=type\n",
    "    return result"
   ]
  },
  {
   "cell_type": "markdown",
   "id": "f3c0dc10-10c6-4d19-9f49-d505d0278c4d",
   "metadata": {},
   "source": [
    "## Time-synchronous DTW Accuracy"
   ]
  },
  {
   "cell_type": "code",
   "execution_count": 28,
   "id": "71d6d1d5-d22c-4015-802c-b329dba71e56",
   "metadata": {},
   "outputs": [
    {
     "name": "stdout",
     "output_type": "stream",
     "text": [
      "[[0. 0.]\n",
      " [1. 1.]\n",
      " [2. 2.]\n",
      " [3. 3.]\n",
      " [1. 4.]\n",
      " [5. 5.]\n",
      " [6. 6.]\n",
      " [7. 7.]\n",
      " [8. 8.]\n",
      " [9. 9.]]\n",
      "TS_DTW Accuracy: 0.95\n",
      "Runtime: 14.532893 seconds\n"
     ]
    }
   ],
   "source": [
    "start_time = time.time()\n",
    "\n",
    "a = np.arange(10).reshape(10, 1)\n",
    "correct_classifications = np.hstack((a,a))\n",
    "ts_dtw_result=TS_DTW_recognition(template_feature_matrix)\n",
    "print(ts_dtw_result)\n",
    "differing_positions = ts_dtw_result != correct_classifications\n",
    "print('TS_DTW Accuracy:',1-np.sum(differing_positions)/20)\n",
    "\n",
    "end_time = time.time()\n",
    "# Calculate the runtime\n",
    "runtime = end_time - start_time\n",
    "print(\"Runtime: {:.6f} seconds\".format(runtime))"
   ]
  },
  {
   "cell_type": "markdown",
   "id": "59f81707-852b-46f6-805d-f7705e1f25ff",
   "metadata": {},
   "source": [
    "## TS-DTW with pruning"
   ]
  },
  {
   "cell_type": "code",
   "execution_count": 121,
   "id": "f3513f3f-74b5-4f37-8fe6-3bc0e8f5de25",
   "metadata": {},
   "outputs": [],
   "source": [
    "def Pruning(input,templates,threshold):     \n",
    "    template_len=[0]\n",
    "    for i in range(10):\n",
    "        if i==0: template_len.append(np.shape(templates[i])[0])\n",
    "        else: template_len.append(template_len[-1]+np.shape(templates[i])[0])\n",
    "    # template_len = [0, 99, 168, 267, 366, 465, 564, 663, 762, 861, 960]\n",
    "    new_array=np.full(template_len[-1],np.inf)\n",
    "    old_array=np.full(template_len[-1],np.inf)\n",
    "    # i represents the number of vectors in the input\n",
    "    ranges=[[] for x in range(10)]\n",
    "    best=np.full(len(templates),np.inf)\n",
    "    for i in range(len(input)):\n",
    "        if i==0:\n",
    "            for k in range(len(template_len)-1): \n",
    "                cost=euclidean_distance(templates[k][0],input[i])\n",
    "                old_array[template_len[k]]=euclidean_distance(templates[k][0],input[i])\n",
    "                best[k]=cost\n",
    "                ranges[k].append(template_len[k]) \n",
    "            # print(ranges,best)\n",
    "        else:\n",
    "            for k in range(len(template_len)-1):\n",
    "                for y in range(len(ranges[k])):\n",
    "                    if old_array[ranges[k][y]]>best[k]*(1+threshold):\n",
    "                        old_array[ranges[k][y]]=np.inf\n",
    "                ranges[k]=[]\n",
    "                best[k]=np.inf\n",
    "                low=template_len[k]\n",
    "                high=template_len[k+1]\n",
    "                new_array[low]=old_array[low]+euclidean_distance(templates[k][0],input[i])\n",
    "                new_array[low+1]=min(old_array[low+1],old_array[low])+euclidean_distance(templates[k][1],input[i])\n",
    "                best[k]=min(new_array[low],new_array[low+1])\n",
    "                for j in range(low+2,high): \n",
    "                    cost=min(old_array[j-2],old_array[j-1],old_array[j])\n",
    "                    if cost==np.inf: \n",
    "                        new_array[j]=cost\n",
    "                    else: \n",
    "                        dist=euclidean_distance(templates[k][j-low],input[i])+cost\n",
    "                        new_array[j]=dist\n",
    "                        if dist<best[k]:\n",
    "                            best[k]=dist\n",
    "                        ranges[k].append(j)\n",
    "            old_array=new_array\n",
    "            new_array=np.full(template_len[-1],np.inf)            \n",
    "    type=0\n",
    "    dtw=old_array[template_len[1]-1]\n",
    "    for i in range(2,len(template_len)):\n",
    "        dist=old_array[template_len[i]-1]\n",
    "        if dist<dtw:\n",
    "            dtw=dist\n",
    "            type=i-1\n",
    "    return type\n",
    "        \n"
   ]
  },
  {
   "cell_type": "code",
   "execution_count": 98,
   "id": "8dcb0607-699a-452d-b6de-a8d6d87942b6",
   "metadata": {},
   "outputs": [],
   "source": [
    "def Pruning_recognition(templates,threshold):\n",
    "    result=np.zeros((len(templates),2))\n",
    "    for i in range(len(templates)):\n",
    "        for j in range(1,3):\n",
    "            training_feature=get_cepstrum_features(str(i)+'_training_'+str(j)+'.wav')\n",
    "            type=Pruning(training_feature,templates,threshold)\n",
    "            result[i][j-1]=type\n",
    "    return result"
   ]
  },
  {
   "cell_type": "markdown",
   "id": "38ff20dc-2ee2-47cd-b519-a2f84718970c",
   "metadata": {},
   "source": [
    "## Accuracy of time synchronous DTW with pruning"
   ]
  },
  {
   "cell_type": "code",
   "execution_count": 126,
   "id": "d3d62695-842f-48d5-b7b3-de59c5819d87",
   "metadata": {},
   "outputs": [
    {
     "name": "stdout",
     "output_type": "stream",
     "text": [
      "[[2. 0.]\n",
      " [1. 1.]\n",
      " [2. 0.]\n",
      " [3. 3.]\n",
      " [1. 4.]\n",
      " [3. 5.]\n",
      " [6. 6.]\n",
      " [2. 7.]\n",
      " [8. 8.]\n",
      " [9. 9.]]\n",
      "TS_DTW_with_Pruning Accuracy: 0.75\n",
      "Runtime: 6.603256 seconds\n"
     ]
    }
   ],
   "source": [
    "start_time = time.time()\n",
    "\n",
    "a = np.arange(10).reshape(10, 1)\n",
    "correct_classifications = np.hstack((a,a))\n",
    "pruning_result=Pruning_recognition(template_feature_matrix,0.05)\n",
    "print(pruning_result)\n",
    "differing_positions = pruning_result != correct_classifications\n",
    "print('TS_DTW_with_Pruning Accuracy:',1-np.sum(differing_positions)/20)\n",
    "\n",
    "end_time = time.time()\n",
    "# Calculate the runtime\n",
    "runtime = end_time - start_time\n",
    "print(\"Runtime: {:.6f} seconds\".format(runtime))"
   ]
  },
  {
   "cell_type": "markdown",
   "id": "934e1045-b247-4b88-be89-53f8cdb0e955",
   "metadata": {},
   "source": [
    "## plot of different threshold"
   ]
  },
  {
   "cell_type": "code",
   "execution_count": 133,
   "id": "a5bd546a-3e43-4e2b-9a7b-50335cc48dc4",
   "metadata": {},
   "outputs": [
    {
     "data": {
      "image/png": "[encoded data removed]",
      "text/plain": [
       "<Figure size 640x480 with 1 Axes>"
      ]
     },
     "metadata": {},
     "output_type": "display_data"
    }
   ],
   "source": [
    "a = np.arange(10).reshape(10, 1)\n",
    "correct_classifications = np.hstack((a,a))\n",
    "accuracy=[]\n",
    "for i in range(8):\n",
    "    pruning_result=Pruning_recognition(template_feature_matrix,0.05*i)\n",
    "    differing_positions = pruning_result != correct_classifications\n",
    "    accuracy.append(1-np.sum(differing_positions)/20)\n",
    "x = np.linspace(0.0,0.05*7,num=8)\n",
    "\n",
    "plt.plot(x, accuracy)\n",
    "\n",
    "plt.xlabel('Threshold')\n",
    "plt.ylabel('Accuracy')\n",
    "\n",
    "plt.show()"
   ]
  }
 ],
 "metadata": {
  "kernelspec": {
   "display_name": "Python 3 (ipykernel)",
   "language": "python",
   "name": "python3"
  },
  "language_info": {
   "codemirror_mode": {
    "name": "ipython",
    "version": 3
   },
   "file_extension": ".py",
   "mimetype": "text/x-python",
   "name": "python",
   "nbconvert_exporter": "python",
   "pygments_lexer": "ipython3",
   "version": "3.11.5"
  }
 },
 "nbformat": 4,
 "nbformat_minor": 5
}
