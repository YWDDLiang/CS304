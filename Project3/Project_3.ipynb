{
 "cells": [
  {
   "cell_type": "markdown",
   "id": "da137916-9470-4cbf-b993-ad76484a593d",
   "metadata": {},
   "source": [
    "# Functions in project 2"
   ]
  },
  {
   "cell_type": "code",
   "execution_count": 52,
   "id": "200bc5de-8a34-44ba-b06a-16a95e63a0a3",
   "metadata": {},
   "outputs": [],
   "source": [
    "import keyboard\n",
    "import time\n",
    "import wave\n",
    "import pyaudio\n",
    "import numpy as np\n",
    "import IPython.display as ipd\n",
    "import matplotlib.pyplot as plt\n",
    "\n",
    "# Divide signal data into 20ms segements with 10ms interval for every two consecutive ones \n",
    "def create_segments(signal,sample_rate,width=10):\n",
    "    num=int(width*sample_rate/1000)\n",
    "    # first divide signal into 10ms segments\n",
    "    ten_ms_segments = [signal[i:i+num] for i in range(0, len(signal), num)]\n",
    "    twenty_ms_segments =[]\n",
    "    for j in range(len(ten_ms_segments)):\n",
    "        if j!=0:\n",
    "            l1=ten_ms_segments[j-1]\n",
    "            l2=ten_ms_segments[j]\n",
    "            l=[0 for i in range(num*2)]\n",
    "            for k in range(len(l1)):\n",
    "                l[k]=l1[k]\n",
    "                l[k+len(l1)]=l2[k]\n",
    "            twenty_ms_segments.append(l)\n",
    "    return twenty_ms_segments\n",
    "\n",
    "# Preemphasize each segement\n",
    "def Preemphasizing(segment):\n",
    "    pre=np.zeros(len(segment))\n",
    "    pre[0]=segment[0]\n",
    "    for i in range(1,len(segment)):\n",
    "        pre[i]=segment[i]-0.95*segment[i-1]\n",
    "    return pre\n",
    "\n",
    "# Window each preemphasized segement\n",
    "def windowing(pre):\n",
    "    pre=pre*np.hamming(len(pre))\n",
    "    return pre\n",
    "\n",
    "# Zero pad each windowed segement\n",
    "def zero_padding(windowed):\n",
    "    #zero padding for FFT\n",
    "    length=512\n",
    "    windowed_len=len(windowed)\n",
    "    padding_len=length-windowed_len\n",
    "    zeros=np.zeros((padding_len,))\n",
    "    zero_padded=np.concatenate((windowed,zeros))\n",
    "    return zero_padded\n",
    "\n",
    "# Calculate the power spectrum of a segement\n",
    "def FFT(frame):\n",
    "    length=512\n",
    "    fft=np.fft.rfft(frame, length)\n",
    "    magnitude = np.abs(fft)\n",
    "    power = ((1.0 / length) * ((magnitude) ** 2)) \n",
    "\n",
    "    return power\n",
    "\n",
    "# Mel warping function\n",
    "def warping_function(Hz):\n",
    "    Mel = 2595 * np.log10(1+Hz/700)\n",
    "    return Mel\n",
    "# inverse function\n",
    "def inverse_warping(Mel):\n",
    "    Hz = 700*(np.power(10,Mel/2595)-1) \n",
    "    return Hz\n",
    "\n",
    "# calculate mel spectra and log mel spectra\n",
    "def filterbanks(power,filter_num,minHz=133.33,maxHz=6855.4976,length=512):\n",
    "    maxMel=warping_function(maxHz)\n",
    "    minMel=warping_function(minHz)\n",
    "    #get start and end points of triangle filters in Mel\n",
    "    pointsInMel=np.linspace(minMel,maxMel,filter_num+2)\n",
    "    #get start and end points of triangle filters in Hz\n",
    "    pointsInHz=inverse_warping(pointsInMel)\n",
    "    #get start and end points of tiangle filters in total 257 points\n",
    "    ranges=np.floor(length/2*pointsInHz/(maxHz-minHz))\n",
    "    #normalize the triangle filters according to the lower bound\n",
    "    ranges=ranges-ranges[0]\n",
    "    #create filter banks with size(number of filters=40, points in power spectrum=257)\n",
    "    filter_banks=np.zeros((filter_num,len(power)))\n",
    "    for i in range(1,filter_num+1): \n",
    "        #get the left half of the traingle\n",
    "        for j in range(int(ranges[i-1]),int(ranges[i])):\n",
    "            filter_banks[i-1,j]=(j-ranges[i-1])/(ranges[i]-ranges[i-1])\n",
    "        #get the right half of the traingle\n",
    "        for j in range(int(ranges[i]),int(ranges[i+1])):\n",
    "            filter_banks[i-1,j]=(ranges[i+1]-j)/(ranges[i+1]-ranges[i])\n",
    "    #mel spectrum\n",
    "    filter_banks=filter_banks.T\n",
    "    Mel=np.dot(power,filter_banks)\n",
    "    Mel=np.where(Mel==0,np.finfo(float).eps,Mel)\n",
    "    #log mel spectrum\n",
    "    Log_Mel=10*np.log(Mel) \n",
    "    return Mel,Log_Mel\n",
    "\n",
    "from scipy.fftpack import dct,idct\n",
    "# use dct to get the cepstral_coefficients\n",
    "def mel_cepstrum(log_mel):\n",
    "    cepstral_coefficients=dct(log_mel,axis=-1, type=2, norm='ortho')\n",
    "    return cepstral_coefficients[:13]\n",
    "\n",
    "# get idct\n",
    "def IDCT(log_mel,num):\n",
    "    IDCT_coefficients=idct(log_mel,type=2, n=num, norm='ortho')\n",
    "    return IDCT_coefficients\n",
    "\n",
    "# get log mel spectrum matrix, mel cpestrum matrix and idct matrix, given segments\n",
    "def get_matrix(segments,num):\n",
    "    Mel_cepstrum_matrix=[]\n",
    "    log_Mel_spectrum_matrix=[]\n",
    "    IDCT_matrix=[]\n",
    "    for i in range(len(segments)):\n",
    "        preemphasized=Preemphasizing(segments[i])\n",
    "        windowed=windowing(preemphasized)\n",
    "        zero_padded=zero_padding(windowed)\n",
    "        power_spectrum=FFT(zero_padded)\n",
    "        Mel_spectrum, log_Mel_spectrum=filterbanks(power_spectrum,num)\n",
    "        log_Mel_spectrum_matrix.append(log_Mel_spectrum)\n",
    "        Mel_cepstrum=mel_cepstrum(log_Mel_spectrum)\n",
    "        Mel_cepstrum_matrix.append(Mel_cepstrum)\n",
    "        IDCT_spectrum=IDCT(Mel_cepstrum,num)\n",
    "        IDCT_matrix.append(IDCT_spectrum)\n",
    "    return log_Mel_spectrum_matrix,Mel_cepstrum_matrix,IDCT_matrix\n",
    "#plot the spectrum and cepstrum\n",
    "def plot_show(matrix, title):\n",
    "    plt.figure(figsize=(15, 8))\n",
    "    plt.subplot(311)\n",
    "    plt.imshow(matrix.T, origin='lower')\n",
    "    plt.title(title)\n",
    "\n",
    "#load wav file\n",
    "def load_wav(file_path):\n",
    "    wav_file = wave.open(file_path, 'r')\n",
    "    # Get the audio data\n",
    "    frames = wav_file.readframes(-1)\n",
    "    signal = np.frombuffer(frames, dtype=np.int16)\n",
    "\n",
    "    # Get the sample rate and time axis\n",
    "    sample_rate = wav_file.getframerate()\n",
    "    duration = len(signal) / sample_rate\n",
    "    time = np.linspace(0., duration, len(signal))\n",
    "    \n",
    "    # Close the WAV file\n",
    "    wav_file.close()\n",
    "    return signal, sample_rate"
   ]
  },
  {
   "cell_type": "markdown",
   "id": "276066e5-4240-43f6-b905-6dee20b9f4ec",
   "metadata": {},
   "source": [
    "# Problem 1"
   ]
  },
  {
   "cell_type": "markdown",
   "id": "9bc56f44-63ac-42d8-9945-703ff9a7d57d",
   "metadata": {},
   "source": [
    "## 1. Mean subtraction and variance normalization"
   ]
  },
  {
   "cell_type": "code",
   "execution_count": 53,
   "id": "4938f827-179e-412a-b4cc-aee8f9ce9c6a",
   "metadata": {},
   "outputs": [],
   "source": [
    "def mean_subtraction(matrix):\n",
    "    means = np.mean(matrix, axis=0)/(np.shape(matrix)[0])\n",
    "    matrix=matrix-means\n",
    "    return matrix\n",
    "\n",
    "def var_normalization(matrix):\n",
    "    sd=np.sqrt(np.sum(np.square(matrix),axis=0)/(np.shape(matrix)[0]))\n",
    "    return matrix*(1/sd)"
   ]
  },
  {
   "cell_type": "markdown",
   "id": "d6c2a33a-fd67-4baa-9136-55375b7beb44",
   "metadata": {},
   "source": [
    "## Get cepstrum feature"
   ]
  },
  {
   "cell_type": "code",
   "execution_count": 54,
   "id": "17376065-c7a8-4c17-9e2e-9e40d278a92a",
   "metadata": {},
   "outputs": [],
   "source": [
    "def get_cepstrum_features(file):\n",
    "    signal, sample_rate=load_wav(file)\n",
    "    seg=create_segments(signal,sample_rate)\n",
    "    log_mel_spectrum_matrix,mel_cepstrum_matrix,IDCT_matrix=get_matrix(seg,40)\n",
    "    log_mel_spectrum_matrix,mel_cepstrum_matrix,IDCT_matrix=np.array(log_mel_spectrum_matrix),np.array(mel_cepstrum_matrix),np.array(IDCT_matrix)\n",
    "\n",
    "    mean_subtracted=mean_subtraction(mel_cepstrum_matrix)\n",
    "    var_normalized=var_normalization(mean_subtracted)\n",
    "    return var_normalized"
   ]
  },
  {
   "cell_type": "markdown",
   "id": "bec4ff3c-8f4a-49cb-9960-fce1460e2d0a",
   "metadata": {},
   "source": [
    "## 2. DTW"
   ]
  },
  {
   "cell_type": "code",
   "execution_count": 55,
   "id": "44559c0e-a774-4968-9b9c-62d144387f66",
   "metadata": {},
   "outputs": [],
   "source": [
    "# calculate the Euclidean distance between two feature vectors\n",
    "def euclidean_distance(a, b):\n",
    "    return np.sqrt(np.sum((a - b) ** 2))\n",
    "\n",
    "\n",
    "def DTW(input, template):       \n",
    "    new_array=np.full(len(template),np.inf)\n",
    "    old_array=np.full(len(template),np.inf)\n",
    "    for i in range(len(input)):\n",
    "        if i==0:\n",
    "            old_array[0]=euclidean_distance(input[i],template[0])\n",
    "        else:\n",
    "            for j in range(len(template)):\n",
    "                if j==0:\n",
    "                    new_array[0]=old_array[0]+euclidean_distance(input[i], template[j])\n",
    "                elif j==1:\n",
    "                    cost=min(old_array[j-1],old_array[j])\n",
    "                    new_array[1]=euclidean_distance(input[i],template[j])+cost\n",
    "                else:\n",
    "                    cost=min(old_array[j-1],old_array[j-2],old_array[j])\n",
    "                    new_array[j]=euclidean_distance(input[i],template[j])+cost\n",
    "            old_array=new_array\n",
    "            new_array=np.full(len(template),np.inf)\n",
    "            \n",
    "    # Return the DTW distance\n",
    "    return old_array[len(template)-1]"
   ]
  },
  {
   "cell_type": "code",
   "execution_count": 86,
   "id": "ddf67a67-e48f-4156-bef2-ab7c97fb87d5",
   "metadata": {},
   "outputs": [],
   "source": [
    "template_feature_matrix=[]\n",
    "for i in range(10):\n",
    "    template_feature=get_cepstrum_features(str(i)+'_template.wav')\n",
    "    template_feature_matrix.append(template_feature)\n",
    "dtw_result=np.zeros((10,2))\n",
    "\n",
    "def DTW_recognition(templates):\n",
    "    result=np.zeros((len(templates),2))\n",
    "    for i in range(len(templates)):\n",
    "        for j in range(1,3):\n",
    "            training_feature=get_cepstrum_features(str(i)+'_training_'+str(j)+'.wav')\n",
    "            dtw=DTW(training_feature,templates[0])\n",
    "            type=0\n",
    "            for k in range(1,10):\n",
    "                cur_dtw=DTW(training_feature,template_feature_matrix[k])\n",
    "                if cur_dtw<dtw:\n",
    "                    dtw=cur_dtw\n",
    "                    type=k\n",
    "            result[i][j-1]=type\n",
    "    return result"
   ]
  },
  {
   "cell_type": "markdown",
   "id": "5a477845-9287-4040-900b-a079d2b025f4",
   "metadata": {},
   "source": [
    "## Simple DTW accuracy"
   ]
  },
  {
   "cell_type": "code",
   "execution_count": 6,
   "id": "18178a05-677b-465b-920a-d06ca43e38c3",
   "metadata": {},
   "outputs": [
    {
     "name": "stdout",
     "output_type": "stream",
     "text": [
      "[[0. 0.]\n",
      " [4. 1.]\n",
      " [2. 2.]\n",
      " [3. 3.]\n",
      " [4. 4.]\n",
      " [5. 5.]\n",
      " [6. 6.]\n",
      " [7. 7.]\n",
      " [8. 8.]\n",
      " [9. 9.]]\n",
      "DTW Accuracy: 0.95\n",
      "Runtime: 16.088831 seconds\n"
     ]
    }
   ],
   "source": [
    "start_time = time.time()\n",
    "\n",
    "a = np.arange(10).reshape(10, 1)\n",
    "correct_classifications = np.hstack((a,a))\n",
    "dtw_result=DTW_recognition(template_feature_matrix)\n",
    "print(dtw_result)\n",
    "differing_positions = dtw_result != correct_classifications\n",
    "print('DTW Accuracy:',1-np.sum(differing_positions)/20)\n",
    "\n",
    "end_time = time.time()\n",
    "# Calculate the runtime\n",
    "runtime = end_time - start_time\n",
    "print(\"Runtime: {:.6f} seconds\".format(runtime))"
   ]
  },
  {
   "cell_type": "markdown",
   "id": "bfccb37e-30a1-4529-a13e-55ff6c7a5b24",
   "metadata": {},
   "source": [
    "## 3. Time-synchronous DTW"
   ]
  },
  {
   "cell_type": "code",
   "execution_count": 7,
   "id": "58f9e41f-80a9-4bc1-9f85-358495a9efe1",
   "metadata": {},
   "outputs": [],
   "source": [
    "def Time_synchronous_DTW(input,templates):     \n",
    "    template_len=[0]\n",
    "    for i in range(10):\n",
    "        if i==0: template_len.append(np.shape(templates[i])[0])\n",
    "        else: template_len.append(template_len[-1]+np.shape(templates[i])[0])\n",
    "    # template_len = [0, 99, 168, 267, 366, 465, 564, 663, 762, 861, 960]\n",
    "    new_array=np.full(template_len[-1],np.inf)\n",
    "    old_array=np.full(template_len[-1],np.inf)\n",
    "    # i represents the number of vectors in the input\n",
    "    for i in range(len(input)):\n",
    "        if i==0:\n",
    "            for k in range(len(template_len)-1):\n",
    "                old_array[template_len[k]]=euclidean_distance(templates[k][0],input[i])\n",
    "        else:\n",
    "            for k in range(len(template_len)-1):\n",
    "                low=template_len[k]\n",
    "                high=template_len[k+1]\n",
    "                new_array[low]=old_array[low]+euclidean_distance(templates[k][0],input[i])\n",
    "                new_array[low+1]=min(old_array[low+1],old_array[low])+euclidean_distance(templates[k][1],input[i])\n",
    "                for j in range(low+2,high): \n",
    "                    cost=min(old_array[j-2],old_array[j-1],old_array[j])\n",
    "                    new_array[j]=euclidean_distance(templates[k][j-low],input[i])+cost\n",
    "            old_array=new_array\n",
    "            new_array=np.full(template_len[-1],np.inf)\n",
    "            \n",
    "    type=0\n",
    "    dtw=old_array[template_len[1]-1]\n",
    "    for i in range(2,len(template_len)):\n",
    "        dist=old_array[template_len[i]-1]\n",
    "        if dist<dtw:\n",
    "            dtw=dist\n",
    "            type=i-1\n",
    "    return type\n",
    "        \n"
   ]
  },
  {
   "cell_type": "code",
   "execution_count": 8,
   "id": "2bd89970-9dc5-43c7-b31f-2c21e31ef660",
   "metadata": {},
   "outputs": [],
   "source": [
    "def TS_DTW_recognition(templates):\n",
    "    result=np.zeros((len(templates),2))\n",
    "    for i in range(len(templates)):\n",
    "        for j in range(1,3):\n",
    "            training_feature=get_cepstrum_features(str(i)+'_training_'+str(j)+'.wav')\n",
    "            type=Time_synchronous_DTW(training_feature,templates)\n",
    "            result[i][j-1]=type\n",
    "    return result"
   ]
  },
  {
   "cell_type": "markdown",
   "id": "f3c0dc10-10c6-4d19-9f49-d505d0278c4d",
   "metadata": {},
   "source": [
    "## Time-synchronous DTW Accuracy"
   ]
  },
  {
   "cell_type": "code",
   "execution_count": 9,
   "id": "71d6d1d5-d22c-4015-802c-b329dba71e56",
   "metadata": {},
   "outputs": [
    {
     "name": "stdout",
     "output_type": "stream",
     "text": [
      "[[0. 0.]\n",
      " [4. 1.]\n",
      " [2. 2.]\n",
      " [3. 3.]\n",
      " [4. 4.]\n",
      " [5. 5.]\n",
      " [6. 6.]\n",
      " [7. 7.]\n",
      " [8. 8.]\n",
      " [9. 9.]]\n",
      "TS_DTW Accuracy: 0.95\n",
      "Runtime: 15.706743 seconds\n"
     ]
    }
   ],
   "source": [
    "start_time = time.time()\n",
    "\n",
    "a = np.arange(10).reshape(10, 1)\n",
    "correct_classifications = np.hstack((a,a))\n",
    "ts_dtw_result=TS_DTW_recognition(template_feature_matrix)\n",
    "print(ts_dtw_result)\n",
    "differing_positions = ts_dtw_result != correct_classifications\n",
    "print('TS_DTW Accuracy:',1-np.sum(differing_positions)/20)\n",
    "\n",
    "end_time = time.time()\n",
    "# Calculate the runtime\n",
    "runtime = end_time - start_time\n",
    "print(\"Runtime: {:.6f} seconds\".format(runtime))"
   ]
  },
  {
   "cell_type": "markdown",
   "id": "59f81707-852b-46f6-805d-f7705e1f25ff",
   "metadata": {},
   "source": [
    "## 4. TS-DTW with pruning"
   ]
  },
  {
   "cell_type": "code",
   "execution_count": 10,
   "id": "f3513f3f-74b5-4f37-8fe6-3bc0e8f5de25",
   "metadata": {},
   "outputs": [],
   "source": [
    "def Pruning(input,templates,threshold):     \n",
    "    template_len=[0]\n",
    "    for i in range(10):\n",
    "        if i==0: template_len.append(np.shape(templates[i])[0])\n",
    "        else: template_len.append(template_len[-1]+np.shape(templates[i])[0])\n",
    "    # template_len = [0, 99, 168, 267, 366, 465, 564, 663, 762, 861, 960]\n",
    "    new_array=np.full(template_len[-1],np.inf)\n",
    "    old_array=np.full(template_len[-1],np.inf)\n",
    "    # i represents the number of vectors in the input\n",
    "    ranges=[[] for x in range(10)]\n",
    "    best=np.full(len(templates),np.inf)\n",
    "    for i in range(len(input)):\n",
    "        if i==0:\n",
    "            for k in range(len(template_len)-1): \n",
    "                cost=euclidean_distance(templates[k][0],input[i])\n",
    "                old_array[template_len[k]]=euclidean_distance(templates[k][0],input[i])\n",
    "                best[k]=cost\n",
    "                ranges[k].append(template_len[k]) \n",
    "            # print(ranges,best)\n",
    "        else:\n",
    "            for k in range(len(template_len)-1):\n",
    "                for y in range(len(ranges[k])):\n",
    "                    if old_array[ranges[k][y]]>best[k]*(1+threshold):\n",
    "                        old_array[ranges[k][y]]=np.inf\n",
    "                ranges[k]=[]\n",
    "                best[k]=np.inf\n",
    "                low=template_len[k]\n",
    "                high=template_len[k+1]\n",
    "                new_array[low]=old_array[low]+euclidean_distance(templates[k][0],input[i])\n",
    "                new_array[low+1]=min(old_array[low+1],old_array[low])+euclidean_distance(templates[k][1],input[i])\n",
    "                best[k]=min(new_array[low],new_array[low+1])\n",
    "                for j in range(low+2,high): \n",
    "                    cost=min(old_array[j-2],old_array[j-1],old_array[j])\n",
    "                    if cost==np.inf: \n",
    "                        new_array[j]=cost\n",
    "                    else: \n",
    "                        dist=euclidean_distance(templates[k][j-low],input[i])+cost\n",
    "                        new_array[j]=dist\n",
    "                        if dist<best[k]:\n",
    "                            best[k]=dist\n",
    "                        ranges[k].append(j)\n",
    "            old_array=new_array\n",
    "            new_array=np.full(template_len[-1],np.inf)            \n",
    "    type=0\n",
    "    dtw=old_array[template_len[1]-1]\n",
    "    for i in range(2,len(template_len)):\n",
    "        dist=old_array[template_len[i]-1]\n",
    "        if dist<dtw:\n",
    "            dtw=dist\n",
    "            type=i-1\n",
    "    return type\n",
    "        \n"
   ]
  },
  {
   "cell_type": "code",
   "execution_count": 11,
   "id": "8dcb0607-699a-452d-b6de-a8d6d87942b6",
   "metadata": {},
   "outputs": [],
   "source": [
    "def Pruning_recognition(templates,threshold):\n",
    "    result=np.zeros((len(templates),2))\n",
    "    for i in range(len(templates)):\n",
    "        for j in range(1,3):\n",
    "            training_feature=get_cepstrum_features(str(i)+'_training_'+str(j)+'.wav')\n",
    "            type=Pruning(training_feature,templates,threshold)\n",
    "            result[i][j-1]=type\n",
    "    return result"
   ]
  },
  {
   "cell_type": "markdown",
   "id": "38ff20dc-2ee2-47cd-b519-a2f84718970c",
   "metadata": {},
   "source": [
    "## Accuracy of time synchronous DTW with pruning"
   ]
  },
  {
   "cell_type": "code",
   "execution_count": 12,
   "id": "d3d62695-842f-48d5-b7b3-de59c5819d87",
   "metadata": {},
   "outputs": [
    {
     "name": "stdout",
     "output_type": "stream",
     "text": [
      "[[0. 0.]\n",
      " [4. 1.]\n",
      " [2. 2.]\n",
      " [3. 3.]\n",
      " [4. 4.]\n",
      " [5. 5.]\n",
      " [6. 6.]\n",
      " [7. 7.]\n",
      " [8. 8.]\n",
      " [9. 9.]]\n",
      "TS_DTW_with_Pruning Accuracy: 0.95\n",
      "Runtime: 12.327501 seconds\n"
     ]
    }
   ],
   "source": [
    "start_time = time.time()\n",
    "\n",
    "a = np.arange(10).reshape(10, 1)\n",
    "correct_classifications = np.hstack((a,a))\n",
    "pruning_result=Pruning_recognition(template_feature_matrix,0.35)\n",
    "print(pruning_result)\n",
    "differing_positions = pruning_result != correct_classifications\n",
    "print('TS_DTW_with_Pruning Accuracy:',1-np.sum(differing_positions)/20)\n",
    "\n",
    "end_time = time.time()\n",
    "# Calculate the runtime\n",
    "runtime = end_time - start_time\n",
    "print(\"Runtime: {:.6f} seconds\".format(runtime))"
   ]
  },
  {
   "cell_type": "markdown",
   "id": "934e1045-b247-4b88-be89-53f8cdb0e955",
   "metadata": {},
   "source": [
    "## Plot of different accuracy of pruning for different threshold"
   ]
  },
  {
   "cell_type": "code",
   "execution_count": 13,
   "id": "a5bd546a-3e43-4e2b-9a7b-50335cc48dc4",
   "metadata": {},
   "outputs": [
    {
     "data": {
      "image/png": "[encoded data removed]",
      "text/plain": [
       "<Figure size 640x480 with 1 Axes>"
      ]
     },
     "metadata": {},
     "output_type": "display_data"
    }
   ],
   "source": [
    "a = np.arange(10).reshape(10, 1)\n",
    "correct_classifications = np.hstack((a,a))\n",
    "accuracy=[]\n",
    "for i in range(8):\n",
    "    pruning_result=Pruning_recognition(template_feature_matrix,0.05*i)\n",
    "    differing_positions = pruning_result != correct_classifications\n",
    "    accuracy.append(1-np.sum(differing_positions)/20)\n",
    "x = np.linspace(0.0,0.05*7,num=8)\n",
    "\n",
    "plt.plot(x, accuracy)\n",
    "\n",
    "plt.xlabel('Threshold')\n",
    "plt.ylabel('Accuracy')\n",
    "\n",
    "plt.show()"
   ]
  },
  {
   "cell_type": "markdown",
   "id": "f522596c-545f-4364-a3a7-ac70291dfa30",
   "metadata": {},
   "source": [
    "The best threshold is 0.3"
   ]
  },
  {
   "cell_type": "markdown",
   "id": "3259d1d4-ef4b-45e1-96bb-e0c110130879",
   "metadata": {},
   "source": [
    "## 5. Multiple template"
   ]
  },
  {
   "cell_type": "markdown",
   "id": "8b6d9056-9149-4179-a7e9-a96b20d734b4",
   "metadata": {},
   "source": [
    "## Template Averaging"
   ]
  },
  {
   "cell_type": "code",
   "execution_count": 14,
   "id": "a5dbb37a-f0a0-4526-97bb-10cb68edb037",
   "metadata": {},
   "outputs": [],
   "source": [
    "def Template_Averaging(templates):\n",
    "    master=templates[0]\n",
    "    for i in range(1,len(templates)):\n",
    "        path=DTW_template_averaging(master,template[i])"
   ]
  },
  {
   "cell_type": "markdown",
   "id": "5d6ba41b-7e0c-4fe6-9356-9d3ba3747f49",
   "metadata": {},
   "source": [
    "## Use DTW to align master template and other templates"
   ]
  },
  {
   "cell_type": "code",
   "execution_count": 230,
   "id": "ba82d614-7222-4f6d-8f7d-55946d8c9fbe",
   "metadata": {},
   "outputs": [],
   "source": [
    "def DTW_template_averaging(input,template):      \n",
    "    previous_matrix=[[(-1,-1) for j in range(len(template))]for i in range(len(input))]\n",
    "    new_array=np.full(len(template),np.inf)\n",
    "    old_array=np.full(len(template),np.inf)\n",
    "    for i in range(len(input)):\n",
    "        if i==0:\n",
    "            old_array[0]=euclidean_distance(input[i],template[0])\n",
    "        else:\n",
    "            for j in range(len(template)):\n",
    "                if j==0:\n",
    "                    new_array[0]=old_array[0]+euclidean_distance(input[i], template[j])\n",
    "                    previous_matrix[i][j]=(i-1,0)\n",
    "                elif j==1:\n",
    "                    cost=min(old_array[j-1],old_array[j])\n",
    "                    if cost!=np.inf:\n",
    "                        if cost==old_array[j-1]: previous_matrix[i][j]=(i-1,j-1)\n",
    "                        else: previous_matrix[i][j]=(i-1,j)\n",
    "                    new_array[1]=euclidean_distance(input[i],template[j])+cost\n",
    "                else:\n",
    "                    cost=min(old_array[j-1],old_array[j-2],old_array[j])\n",
    "                    if cost!=np.inf:\n",
    "                        if cost==old_array[j-1]: previous_matrix[i][j]=(i-1,j-1)\n",
    "                        elif cost==old_array[j-2]: previous_matrix[i][j]=(i-1,j-2)\n",
    "                        else: previous_matrix[i][j]=(i-1,j)\n",
    "                    new_array[j]=euclidean_distance(input[i],template[j])+cost\n",
    "            old_array=new_array\n",
    "            new_array=np.full(len(template),np.inf)\n",
    "    path=[]\n",
    "    transition_type=[]\n",
    "    previous_point=previous_matrix[len(input)-1][len(template)-1]\n",
    "    \n",
    "    i=len(input)\n",
    "    if previous_point[1]==len(template)-1:\n",
    "        transition_type.append(0)\n",
    "    elif previous_point[1]==len(template)-2:\n",
    "        transition_type.append(1)\n",
    "    else:\n",
    "        transition_type.append(2) \n",
    "    while i>1 :\n",
    "        path.append(previous_point)\n",
    "        current=previous_point\n",
    "        previous_point=previous_matrix[previous_point[0]][previous_point[1]]\n",
    "        if current[1]==previous_point[1]:\n",
    "           transition_type.append(0)\n",
    "        elif current[1]==previous_point[1]+1:\n",
    "            transition_type.append(1)\n",
    "        else:\n",
    "            transition_type.append(2)\n",
    "        i-=1\n",
    "    # print(path)\n",
    "    return np.flip(transition_type[:-1])"
   ]
  },
  {
   "cell_type": "code",
   "execution_count": 236,
   "id": "b43415e0-6826-439a-aaea-83c1388d35f2",
   "metadata": {},
   "outputs": [],
   "source": [
    "def get_transition_type(index,num):\n",
    "    template=get_cepstrum_features(str(index)+'_template.wav')\n",
    "    type=[]\n",
    "    alignment=template\n",
    "    count=np.full(len(alignment),1)\n",
    "    for i in range(1,num+1):\n",
    "        input=get_cepstrum_features(str(index)+'_training_'+str(i)+'.wav')\n",
    "        curr_type=DTW_template_averaging(input,template)\n",
    "        type.append(curr_type)\n",
    "        # align the template and input by the trasition types\n",
    "        k=0\n",
    "        j=0\n",
    "        m=0\n",
    "        alignment[0]+=input[0]\n",
    "        count[0]+=1\n",
    "        while m<len(curr_type):\n",
    "            if curr_type[m]==1:\n",
    "                k+=1\n",
    "                j+=1\n",
    "            elif curr_type[m]==2:\n",
    "                j+=1\n",
    "                k+=2\n",
    "            else:\n",
    "                j+=1\n",
    "            alignment[k]+=input[j]\n",
    "            count[k]+=1\n",
    "            m+=1       \n",
    "    return alignment,count"
   ]
  },
  {
   "cell_type": "code",
   "execution_count": 245,
   "id": "dac4160e-856d-44a6-ac2a-0c7e7a607570",
   "metadata": {},
   "outputs": [],
   "source": [
    "alignment,count=get_transition_type(1,3)\n",
    "count = count[:, np.newaxis]\n",
    "averaged_template=alignment/count"
   ]
  },
  {
   "cell_type": "code",
   "execution_count": 249,
   "id": "e1f2f1f8-a0e5-4114-9523-7f31a1567139",
   "metadata": {},
   "outputs": [],
   "source": [
    "input=get_cepstrum_features('1_training_4.wav')\n",
    "template=get_cepstrum_features('1_template.wav')"
   ]
  },
  {
   "cell_type": "markdown",
   "id": "0aeeb991-e31f-4dfc-a0d3-d6ac754ecd90",
   "metadata": {},
   "source": [
    "## Test by DTW"
   ]
  },
  {
   "cell_type": "code",
   "execution_count": null,
   "id": "129a1c25-f8f6-4b0e-a6b1-47a266b689a1",
   "metadata": {},
   "outputs": [],
   "source": []
  },
  {
   "cell_type": "markdown",
   "id": "79ec6e7b-061e-4b87-9af7-48f37d8340fa",
   "metadata": {},
   "source": [
    "## Test by Time Synchronous DTW"
   ]
  },
  {
   "cell_type": "code",
   "execution_count": null,
   "id": "fee49b30-d7b0-41e5-9d8b-0bd7a510e24b",
   "metadata": {},
   "outputs": [],
   "source": []
  },
  {
   "cell_type": "markdown",
   "id": "0ec283df-38f4-4e89-8ed9-8aeeb6544b9c",
   "metadata": {},
   "source": [
    "## Test by pruning"
   ]
  },
  {
   "cell_type": "code",
   "execution_count": null,
   "id": "9c04ce70-5141-4ccc-a396-31ba5abdacf6",
   "metadata": {},
   "outputs": [],
   "source": []
  },
  {
   "cell_type": "markdown",
   "id": "9add83c1-8a7e-41d2-8df9-04c01b93d143",
   "metadata": {},
   "source": [
    "# Problem 2"
   ]
  },
  {
   "cell_type": "markdown",
   "id": "10056a8a-cf5b-495c-9e9b-e8292c89ff54",
   "metadata": {},
   "source": [
    "## Training an HMM"
   ]
  },
  {
   "cell_type": "code",
   "execution_count": null,
   "id": "507b7e84-9767-4678-ba2b-f1de0df3bad7",
   "metadata": {},
   "outputs": [],
   "source": [
    "# negative log Gaussian\n",
    "def log_Gaussian(m, sigma_square, x):\n",
    "    left=0.5*np.sum(np.log(2*np.pi*sigma_square))\n",
    "    right=0.5*np.sum(np.square((x-m))/sigma_square)\n",
    "    return left+right"
   ]
  },
  {
   "cell_type": "code",
   "execution_count": null,
   "id": "d2abe38b-5bb5-4241-81e3-38eedcc1e090",
   "metadata": {},
   "outputs": [],
   "source": [
    "def HMM_DTW(data,state):\n",
    "    for i in range(data):\n",
    "        template=data[i]\n",
    "        "
   ]
  },
  {
   "cell_type": "code",
   "execution_count": 343,
   "id": "35056c8d-4633-4d96-987f-12537f89542e",
   "metadata": {},
   "outputs": [],
   "source": [
    "def Training_HMM(data,state=5):\n",
    "    # calculate the initial boundaries for each state in each template\n",
    "    def initialize_boundary(data,state=5):\n",
    "        boundary=[[(0,0)for j in range(state)]for i in range(len(data))]\n",
    "        for i in range(state):\n",
    "            length=round(len(data[i])/5)\n",
    "            for j in range(state):\n",
    "                if j==0:\n",
    "                    boundary[i][j]=(0,(j+1)*length)\n",
    "                elif j==state-1:\n",
    "                    boundary[i][j]=(j*length,len(data[i]))\n",
    "                else:\n",
    "                    boundary[i][j]=(j*length,(j+1)*length)\n",
    "        return boundary\n",
    "            \n",
    "    # calculate state means and covarriances        \n",
    "    def MeanAndVar(data,boundary,state=5):\n",
    "        means=[]\n",
    "        covs=[]\n",
    "        nodes=[[] for i in range(len(boundary))]#record nodes in different states\n",
    "        for i in range(len(boundary)):\n",
    "            for j in range(state):\n",
    "                low=boundary[i][j][0]\n",
    "                high=boundary[i][j][1]\n",
    "                for k in range(low,high):\n",
    "                    nodes[j].append(data[i][k])\n",
    "        for i in range(state):\n",
    "            mean=np.mean(nodes[i],0)\n",
    "            means.append(mean)\n",
    "            node=np.array(nodes[i])\n",
    "            cov=np.cov(np.array(node).T)\n",
    "            cov=np.diagonal(cov, offset=0, axis1=0, axis2=1)\n",
    "            covs.append(cov)\n",
    "        return means,covs\n",
    "        \n",
    "    # compute transition scores according to the boundary matrix\n",
    "    def TransitionScore(boundary,state=5):\n",
    "        states=np.zeros(state)\n",
    "        for i in range(len(boundary)):\n",
    "            for j in range(state):\n",
    "                num_of_nodes=boundary[i][j][1]-boundary[i][j][0]\n",
    "                states[j]+=num_of_nodes\n",
    "        score=np.full((state,state),-np.inf)\n",
    "        score[0][1]=-np.log(1)\n",
    "        for i in range(1,state):\n",
    "            for j in range(state):\n",
    "                if i==j:\n",
    "                    score[i][j]=-np.log((states[i]-state)/states[i])\n",
    "                elif i==j-1:\n",
    "                    score[i][j]=-np.log(state/states[i])\n",
    "        return score"
   ]
  },
  {
   "cell_type": "code",
   "execution_count": 344,
   "id": "1d59de73-b03d-415b-ae7c-8e8dbfbec718",
   "metadata": {},
   "outputs": [
    {
     "name": "stdout",
     "output_type": "stream",
     "text": [
      "14\n",
      "[[(0, 14), (14, 28), (28, 42), (42, 56), (56, 69)], [(0, 30), (30, 60), (60, 90), (90, 120), (120, 149)], [(0, 30), (30, 60), (60, 90), (90, 120), (120, 149)], [(0, 24), (24, 48), (48, 72), (72, 96), (96, 119)], [(0, 20), (20, 40), (40, 60), (60, 80), (80, 99)]] (5, 13) (5, 13)\n",
      "[[       -inf -0.                -inf        -inf        -inf]\n",
      " [       -inf  0.04329681  3.16124671        -inf        -inf]\n",
      " [       -inf        -inf  0.04329681  3.16124671        -inf]\n",
      " [       -inf        -inf        -inf  0.04329681  3.16124671]\n",
      " [       -inf        -inf        -inf        -inf  0.04525659]]\n"
     ]
    }
   ],
   "source": [
    "data=[]\n",
    "data.append(get_cepstrum_features('1_template.wav'))\n",
    "for i in range(1,5):\n",
    "    data.append(get_cepstrum_features('1_training_'+str(i)+'.wav'))\n",
    "print(round(len(data[0])/5))\n",
    "boundary=initialize_boundary(data)\n",
    "mean,cov=MeanAndVar(data,boundary)\n",
    "print(boundary,np.shape(mean),np.shape(cov))\n",
    "score=TransitionScore(boundary)\n",
    "print(score)"
   ]
  },
  {
   "cell_type": "code",
   "execution_count": 303,
   "id": "495069b9-d75a-4eaf-af3c-121de3728c2e",
   "metadata": {},
   "outputs": [
    {
     "data": {
      "text/plain": [
       "array([1.5, 2.5, 3.5])"
      ]
     },
     "execution_count": 303,
     "metadata": {},
     "output_type": "execute_result"
    }
   ],
   "source": [
    "np.mean([[1,2,3],[2,3,4]],0)"
   ]
  }
 ],
 "metadata": {
  "kernelspec": {
   "display_name": "Python 3 (ipykernel)",
   "language": "python",
   "name": "python3"
  },
  "language_info": {
   "codemirror_mode": {
    "name": "ipython",
    "version": 3
   },
   "file_extension": ".py",
   "mimetype": "text/x-python",
   "name": "python",
   "nbconvert_exporter": "python",
   "pygments_lexer": "ipython3",
   "version": "3.11.5"
  }
 },
 "nbformat": 4,
 "nbformat_minor": 5
}
