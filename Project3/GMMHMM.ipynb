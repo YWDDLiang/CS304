{
 "cells": [
  {
   "cell_type": "code",
   "execution_count": 1,
   "metadata": {},
   "outputs": [],
   "source": [
    "import numpy as np"
   ]
  },
  {
   "cell_type": "code",
   "execution_count": 2,
   "metadata": {},
   "outputs": [],
   "source": [
    "Gaussian_mean =[]\n",
    "Gaussian_var =[]\n",
    "Gaussian_weight =[]\n",
    "Gaussian_total=[Gaussian_mean,Gaussian_var,Gaussian_weight]\n",
    "Num_of_Gaussian = 0\n",
    "initial_matrix=[]\n",
    "transition_cost =[]\n",
    "state_mix =[]\n",
    "state_number = 0 "
   ]
  },
  {
   "cell_type": "code",
   "execution_count": 3,
   "metadata": {},
   "outputs": [],
   "source": [
    "def gaussian(data,sigma_square,ftheta):\n",
    "    #likelihoods\n",
    "    sigma_square_producted=np.prod(sigma_square,axis=1)\n",
    "    p=(1/(np.sqrt((2*np.pi)**2 *sigma_square)))*(np.exp(-0.5*np.sum((data-ftheta)**2/sigma_square_producted,axis=1)))\n",
    "    return p\n",
    "def log_gaussian(data,sigma_square,ftheta):\n",
    "    cost= 0.5*np.sum(np.log((2*np.pi)*(sigma_square)),axis=1)+0.5*np.sum(np.square((ftheta-data))/sigma_square,axis=1)\n",
    "    return cost\n",
    "def mix_log_gaussian(Gaussian_total,ftheta):\n",
    "    Gaussian_mean=Gaussian_total[0]\n",
    "    Gaussian_var=Gaussian_total[1]\n",
    "    Gaussian_weight=Gaussian_total[2]\n",
    "    cost=log_gaussian(Gaussian_mean,Gaussian_var,ftheta)\n",
    "    changed_cost=np.sum(Gaussian_weight*cost)\n",
    "    return changed_cost"
   ]
  }
 ],
 "metadata": {
  "kernelspec": {
   "display_name": "Python 3",
   "language": "python",
   "name": "python3"
  },
  "language_info": {
   "codemirror_mode": {
    "name": "ipython",
    "version": 3
   },
   "file_extension": ".py",
   "mimetype": "text/x-python",
   "name": "python",
   "nbconvert_exporter": "python",
   "pygments_lexer": "ipython3",
   "version": "3.9.13"
  }
 },
 "nbformat": 4,
 "nbformat_minor": 2
}
