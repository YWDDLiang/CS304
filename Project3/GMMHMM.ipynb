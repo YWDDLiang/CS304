{
  "cells": [
    {
      "cell_type": "code",
      "execution_count": null,
      "metadata": {
        "id": "uZ8SP7HW-rR9"
      },
      "outputs": [],
      "source": [
        "import numpy as np"
      ]
    },
    {
      "cell_type": "code",
      "execution_count": null,
      "metadata": {
        "id": "BFPD1hnt-rSA"
      },
      "outputs": [],
      "source": [
        "class Gaussian_total:\n",
        "    def __init__(self,Gaussian_mean =[],Gaussian_var =[],Gaussian_weight =[],number_of_Gaussian = 0):\n",
        "        self.Gaussian_mean =[]\n",
        "        self.Gaussian_var =[]\n",
        "        self.Gaussian_weight =[]\n",
        "        self.number_of_Gaussian = number_of_Gaussian\n",
        "class HMM_total:\n",
        "    def __init__(initial_matrix=[], transition_cost =[], state_mix =[],state_number = 0 ):\n",
        "        self.initial_matrix=initial_matrix\n",
        "        self.transition_cost=transition_cost\n",
        "        self.state_mix=state_mix"
      ]
    },
    {
      "cell_type": "code",
      "execution_count": null,
      "metadata": {
        "id": "1JKEdpaQ-rSA"
      },
      "outputs": [],
      "source": [
        "def gaussian(data,sigma_square,ftheta):\n",
        "    sigma_square_producted=np.prod(sigma_square,axis=1)\n",
        "    p=(1/(np.sqrt((2*np.pi)**2 *sigma_square)))*(np.exp(-0.5*np.sum((data-ftheta)**2/sigma_square_producted,axis=1)))\n",
        "    return p\n",
        "def log_gaussian(data,sigma_square,ftheta):\n",
        "    cost= 0.5*np.sum(np.log((2*np.pi)*(sigma_square)),axis=1)+0.5*np.sum(np.square((ftheta-data))/sigma_square,axis=1)\n",
        "    return cost\n",
        "def mix_log_gaussian(mix_gaussian,ftheta):\n",
        "    Gaussian_mean=mix_gaussian.Gaussian_mean\n",
        "    Gaussian_var=mix_gaussian.Gaussian_var\n",
        "    Gaussian_weight=mix_gaussian.Gaussian_weight\n",
        "    cost=log_gaussian(Gaussian_mean,Gaussian_var,ftheta)\n",
        "    changed_cost=np.sum(Gaussian_weight*cost)\n",
        "    return changed_cost\n",
        "def mix_gaussian(mix_gaussian,ftheta):\n",
        "    cost=0\n",
        "    for i in range(0,mix_gaussian.number_of_Gaussian):\n",
        "        Gaussian_mean=mix_gaussian.Gaussian_mean[i][:]\n",
        "        sigma_square=mix_gaussian.Gaussian_var[i][:]\n",
        "        Gaussian_weight=mix_gaussian.Gaussian_weight[i]\n",
        "        cost0=gaussian(Gaussian_mean,sigma_square,ftheta)\n",
        "        cost=cost+Gaussian_weight*cost0\n",
        "    return cost"
      ]
    },
    {
      "cell_type": "code",
      "execution_count": null,
      "metadata": {
        "id": "hWFoCmcU-rSB"
      },
      "outputs": [],
      "source": [
        "def GMM_HMM_DTW(HMM_total,data):\n",
        "    mark=False\n",
        "    transition_cost=HMM_total.transition_cost\n",
        "    temp_list0=np.zeros([39])\n",
        "    temp_list1=zp.zeros([39])\n",
        "    mixture_of_all_states=[]\n",
        "    new_GMM=Gaussian_total()\n",
        "    new_GMM.Gaussian_mean.append(zeros)\n",
        "    new_GMM.Gaussian_var.append(ones)\n",
        "    new_GMM.Gaussian_weight=[1]\n",
        "    new_GMM.Num_of_Gaussian = 1\n",
        "    mix_of_all_states.append(new_GMM)\n",
        "    for mix in HMM_total.state_mix:\n",
        "        mix_of_all_states.append(mix)\n",
        "    data=np.vstack([zeros,data])\n",
        "    len_mix_of_all_states=len(mix_of_all_states)\n",
        "    len_data=len(data)\n",
        "    P=np.zeros([len_mix_of_all_states,len_data])\n",
        "    # Finding minimum-cost path\n",
        "    for j in range(0,len_data):\n",
        "      for i in range(len_mix_of_all_states):\n",
        "            C_ij= mixture_log_gaussian(mix_of_all_states[i],data[j])\n",
        "            if i-2>=0:\n",
        "                P[i][j]=min(P[i][j-1]+transition_cost[i][i],P[i-1][j-1]+transition_cost[i-1][i],\n",
        "                            P[i-2][j-1]+transition_cost[i-2][i])+C_ij\n",
        "            elif i-1>=0:\n",
        "                P[i][j]=min(P[i][j-1]+transition_cost[i][i],P[i-1][j-1]+transition_cost[i-1][i])+C_ij\n",
        "            else:\n",
        "                P[i][j]=P[i][j]+C_ij\n",
        "    P=P/len_data\n",
        "    distance=P[-1][-1]\n",
        "    if mark:\n",
        "        return distance,traceback(P)\n",
        "    else:\n",
        "        return distance"
      ]
    }
  ],
  "metadata": {
    "kernelspec": {
      "display_name": "Python 3",
      "language": "python",
      "name": "python3"
    },
    "language_info": {
      "codemirror_mode": {
        "name": "ipython",
        "version": 3
      },
      "file_extension": ".py",
      "mimetype": "text/x-python",
      "name": "python",
      "nbconvert_exporter": "python",
      "pygments_lexer": "ipython3",
      "version": "3.9.13"
    },
    "colab": {
      "provenance": []
    }
  },
  "nbformat": 4,
  "nbformat_minor": 0
}