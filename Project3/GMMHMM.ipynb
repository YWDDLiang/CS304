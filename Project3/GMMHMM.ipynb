{
  "cells": [
    {
      "cell_type": "code",
      "execution_count": null,
      "metadata": {
        "id": "uZ8SP7HW-rR9"
      },
      "outputs": [],
      "source": [
        "import numpy as np"
      ]
    },
    {
      "cell_type": "code",
      "execution_count": 4,
      "metadata": {
        "id": "BFPD1hnt-rSA"
      },
      "outputs": [],
      "source": [
        "class Gaussian_total:\n",
        "    def __init__(self,Gaussian_mean =[],Gaussian_var =[],Gaussian_weight =[],number_of_Gaussian = 0):\n",
        "        self.Gaussian_mean =[]\n",
        "        self.Gaussian_var =[]\n",
        "        self.Gaussian_weight =[]\n",
        "        self.number_of_Gaussian = number_of_Gaussian\n",
        "class HMM_total:\n",
        "    def __init__(self, initial_matrix=[], transition_cost =[], state_mix =[],state_number = 0 ):\n",
        "        self.initial_matrix=initial_matrix\n",
        "        self.transition_cost=transition_cost\n",
        "        self.state_mix=state_mix"
      ]
    },
    {
      "cell_type": "code",
      "execution_count": null,
      "metadata": {
        "id": "1JKEdpaQ-rSA"
      },
      "outputs": [],
      "source": [
        "def gaussian(data,sigma_square,ftheta):\n",
        "    sigma_square_producted=np.prod(sigma_square,axis=1)\n",
        "    p=(1/(np.sqrt((2*np.pi)**2 *sigma_square)))*(np.exp(-0.5*np.sum((data-ftheta)**2/sigma_square_producted,axis=1)))\n",
        "    return p\n",
        "def log_gaussian(data,sigma_square,ftheta):\n",
        "    cost= 0.5*np.sum(np.log((2*np.pi)*(sigma_square)),axis=1)+0.5*np.sum(np.square((ftheta-data))/sigma_square,axis=1)\n",
        "    return cost\n",
        "def mix_log_gaussian(mix_gaussian,ftheta):\n",
        "    Gaussian_mean=mix_gaussian.Gaussian_mean\n",
        "    Gaussian_var=mix_gaussian.Gaussian_var\n",
        "    Gaussian_weight=mix_gaussian.Gaussian_weight\n",
        "    cost=log_gaussian(Gaussian_mean,Gaussian_var,ftheta)\n",
        "    changed_cost=np.sum(Gaussian_weight*cost)\n",
        "    return changed_cost\n",
        "def mix_gaussian(mix_gaussian,ftheta):\n",
        "    cost=0\n",
        "    for i in range(0,mix_gaussian.number_of_Gaussian):\n",
        "        Gaussian_mean=mix_gaussian.Gaussian_mean[i][:]\n",
        "        sigma_square=mix_gaussian.Gaussian_var[i][:]\n",
        "        Gaussian_weight=mix_gaussian.Gaussian_weight[i]\n",
        "        cost0=gaussian(Gaussian_mean,sigma_square,ftheta)\n",
        "        cost=cost+Gaussian_weight*cost0\n",
        "    return cost"
      ]
    },
    {
      "cell_type": "code",
      "execution_count": null,
      "metadata": {
        "id": "hWFoCmcU-rSB"
      },
      "outputs": [],
      "source": [
        "def GMM_HMM_DTW(HMM_total,data):\n",
        "    mark=False\n",
        "    transition_cost=HMM_total.transition_cost\n",
        "    temp_list0=np.zeros([39])\n",
        "    temp_list1=np.zeros([39])+1\n",
        "    mixture_of_all_states=[]\n",
        "    new_GMM=Gaussian_total()\n",
        "    new_GMM.Gaussian_mean.append(temp_list0)\n",
        "    new_GMM.Gaussian_var.append(temp_list1)\n",
        "    new_GMM.Gaussian_weight=[1]\n",
        "    new_GMM.number_of_Gaussian = 1\n",
        "    mixture_of_all_states.append(new_GMM)\n",
        "    for mix in HMM_total.state_mix:\n",
        "        mixture_of_all_states.append(mix)\n",
        "    data=np.vstack([temp_list0,data])\n",
        "    len_mix_of_all_states=len(mixture_of_all_states)\n",
        "    len_data=len(data)\n",
        "    P=np.zeros([len_mix_of_all_states,len_data])\n",
        "    # Finding minimum-cost path\n",
        "    for j in range(0,len_data):\n",
        "      for i in range(len_mix_of_all_states):\n",
        "            C_ij= mix_log_gaussian(mixture_of_all_states[i],data[j])\n",
        "            if i-2>=0:\n",
        "                P[i][j]=min(P[i][j-1]+transition_cost[i][i],P[i-1][j-1]+transition_cost[i-1][i],\n",
        "                            P[i-2][j-1]+transition_cost[i-2][i])+C_ij\n",
        "            elif i-1>=0:\n",
        "                P[i][j]=min(P[i][j-1]+transition_cost[i][i],P[i-1][j-1]+transition_cost[i-1][i])+C_ij\n",
        "            else:\n",
        "                P[i][j]=P[i][j]+C_ij\n",
        "    P=P/len_data\n",
        "    distance=P[-1][-1]\n",
        "    if mark:\n",
        "        return distance,get_states(P)\n",
        "    else:\n",
        "        return distance"
      ]
    },
    {
      "cell_type": "code",
      "source": [
        "def TransitionScore(states,state=5):\n",
        "    score=np.full((state+1,state+1),np.inf)\n",
        "    num_nodes_in_state=np.zeros(state+1)\n",
        "    for i in range(len(states)):\n",
        "        for j in range(len(states[i])):\n",
        "            num_nodes_in_state[states[i][j]]+=1\n",
        "    for i in range(1,state+1):\n",
        "        for j in range(state+1):\n",
        "            if i==j: score[i][j]=-np.log((num_nodes_in_state[i]-state)/num_nodes_in_state[i])\n",
        "            elif i==j-1: score[i][j]=-np.log(state/num_nodes_in_state[i])\n",
        "    score[0][1]=0\n",
        "    score[state][state]=0\n",
        "    return score"
      ],
      "metadata": {
        "id": "QZolvNkxW7oC"
      },
      "execution_count": null,
      "outputs": []
    },
    {
      "cell_type": "code",
      "source": [
        "def get_states(P):\n",
        "    current_state,current_frame=np.array(P.shape)-1\n",
        "    current_state_array=[current_state]\n",
        "    while True:\n",
        "      if current_state<=0 or current_frame<=1:\n",
        "        break\n",
        "      current_frame-=1\n",
        "      if current_state>2:\n",
        "          to_check=[P[current_state][current_frame-1],P[current_state-1][current_frame-1],P[current_state-2][current_frame-1]]\n",
        "          track=np.argmin(to_check)\n",
        "      elif current_state>1:\n",
        "          to_check=[P[current_state][current_frame-1],P[current_state-1][current_frame-1]]\n",
        "          track=np.argmin(to_check)\n",
        "      else:\n",
        "          track=0\n",
        "      if track==0:\n",
        "          current_state_array.insert(0,current_state)\n",
        "      elif track==1:\n",
        "          current_state-=1\n",
        "          current_state_array.insert(0,current_state)\n",
        "      else:\n",
        "          current_state-=2\n",
        "          current_state_array.insert(0,current_state)\n",
        "    return current_state_array"
      ],
      "metadata": {
        "id": "ISxW22L3O1FH"
      },
      "execution_count": 2,
      "outputs": []
    },
    {
      "cell_type": "code",
      "source": [
        "def get_node_in_each_state(data,state_number,node_state):\n",
        "    state_list=[]\n",
        "    for state in range(state_number+1):\n",
        "        state_list.append([])\n",
        "    for k in range(len(data)):\n",
        "        for i in range(len(node_state[k])):\n",
        "            j=int(node_state[k][i])\n",
        "            state_list[j].append(data[k][i])\n",
        "    return state_list"
      ],
      "metadata": {
        "id": "V2rwYkuXRzD-"
      },
      "execution_count": 3,
      "outputs": []
    }
  ],
  "metadata": {
    "kernelspec": {
      "display_name": "Python 3",
      "language": "python",
      "name": "python3"
    },
    "language_info": {
      "codemirror_mode": {
        "name": "ipython",
        "version": 3
      },
      "file_extension": ".py",
      "mimetype": "text/x-python",
      "name": "python",
      "nbconvert_exporter": "python",
      "pygments_lexer": "ipython3",
      "version": "3.9.13"
    },
    "colab": {
      "provenance": []
    }
  },
  "nbformat": 4,
  "nbformat_minor": 0
}