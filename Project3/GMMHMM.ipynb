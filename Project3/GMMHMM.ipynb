{
 "cells": [
  {
   "cell_type": "code",
   "execution_count": 1,
   "metadata": {},
   "outputs": [],
   "source": [
    "import numpy as np"
   ]
  },
  {
   "cell_type": "code",
   "execution_count": 4,
   "metadata": {},
   "outputs": [],
   "source": [
    "class Gaussian_total():\n",
    "    def __init__(self,Gaussian_mean =[],Gaussian_var =[],Gaussian_weight =[],number_of_Gaussian = 0):\n",
    "        self.Gaussian_mean =[]\n",
    "        self.Gaussian_var =[]\n",
    "        self.Gaussian_weight =[]\n",
    "        self.number_of_Gaussian = number_of_Gaussian\n",
    "class HMM_total():\n",
    "    def __init__(initial_matrix=[], transition_cost =[], state_mix =[],state_number = 0 ):\n",
    "        self.initial_matrix=initial_matrix\n",
    "        self.transition_cost=transition_cost\n",
    "        self.state_mix=state_mix"
   ]
  },
  {
   "cell_type": "code",
   "execution_count": 5,
   "metadata": {},
   "outputs": [],
   "source": [
    "def gaussian(data,sigma_square,ftheta):\n",
    "    sigma_square_producted=np.prod(sigma_square,axis=1)\n",
    "    p=(1/(np.sqrt((2*np.pi)**2 *sigma_square)))*(np.exp(-0.5*np.sum((data-ftheta)**2/sigma_square_producted,axis=1)))\n",
    "    return p\n",
    "def log_gaussian(data,sigma_square,ftheta):\n",
    "    cost= 0.5*np.sum(np.log((2*np.pi)*(sigma_square)),axis=1)+0.5*np.sum(np.square((ftheta-data))/sigma_square,axis=1)\n",
    "    return cost\n",
    "def mix_log_gaussian(mix_gaussian,ftheta):\n",
    "    Gaussian_mean=mix_gaussian.Gaussian_mean\n",
    "    Gaussian_var=mix_gaussian.Gaussian_var\n",
    "    Gaussian_weight=mix_gaussian.Gaussian_weight\n",
    "    cost=log_gaussian(Gaussian_mean,Gaussian_var,ftheta)\n",
    "    changed_cost=np.sum(Gaussian_weight*cost)\n",
    "    return changed_cost\n",
    "def mix_gaussian(mix_gaussian,ftheta):\n",
    "    cost=0\n",
    "    for i in range(0,mix_gaussian.number_of_Gaussian):\n",
    "        Gaussian_mean=mix_gaussian.Gaussian_mean[i][:]\n",
    "        sigma_square=mix_gaussian.Gaussian_var[i][:]\n",
    "        Gaussian_weight=mix_gaussian.Gaussian_weight[i]\n",
    "        cost0=gaussian(Gaussian_mean,sigma_square,ftheta)\n",
    "        cost=cost+Gaussian_weight*cost0\n",
    "    return cost"
   ]
  },
  {
   "cell_type": "code",
   "execution_count": null,
   "metadata": {},
   "outputs": [],
   "source": [
    "def GMMHMM_DTW(HMM_total,data):\n",
    "    transition_cost=HMM_total[1]\n",
    "    temp_list0=np.zeros([39])\n",
    "    temp_list1=zp.zeros([39])\n",
    "    "
   ]
  }
 ],
 "metadata": {
  "kernelspec": {
   "display_name": "Python 3",
   "language": "python",
   "name": "python3"
  },
  "language_info": {
   "codemirror_mode": {
    "name": "ipython",
    "version": 3
   },
   "file_extension": ".py",
   "mimetype": "text/x-python",
   "name": "python",
   "nbconvert_exporter": "python",
   "pygments_lexer": "ipython3",
   "version": "3.9.13"
  }
 },
 "nbformat": 4,
 "nbformat_minor": 2
}
