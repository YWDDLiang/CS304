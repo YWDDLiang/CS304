{
 "cells": [
  {
   "cell_type": "code",
   "execution_count": 1,
   "id": "0e46a9ca-bce3-49b9-9733-2ed0264f8e68",
   "metadata": {},
   "outputs": [],
   "source": [
    "import pyaudio\n",
    "import numpy as np\n",
    "import wave\n",
    "import keyboard\n",
    "import time\n",
    "\n",
    "#set 's' as the start key \n",
    "Start_key='s'\n",
    "\n",
    "background=0\n",
    "\n",
    "#record the background\n",
    "def record_background():\n",
    "    time.sleep(1)\n",
    "    CHUNK = 1600\n",
    "    resolution = pyaudio.paInt16 \n",
    "    CHANNELS = 1 \n",
    "    sampling_rate = 16000\n",
    "    record_time= 1\n",
    "    Expected_num_of_chunks= int(sampling_rate/CHUNK*record_time) \n",
    "    p=pyaudio.PyAudio()\n",
    "    stream = p.open(format=resolution, channels=CHANNELS, rate=sampling_rate, input=True, frames_per_buffer=CHUNK)\n",
    "    data = stream.read(10)\n",
    "    np_array=np.array(data)\n",
    "        \n",
    "    #convert hexadecimal numbers to decimal ones\n",
    "    int_np_array=np.frombuffer(np_array, np.int16)\n",
    "    int_64 = np.array(int_np_array,dtype='int64')\n",
    "    energy=10*np.log10((np.square(int_64)))\n",
    "    background=np.mean(energy)\n",
    "\n",
    "    #stop recording\n",
    "    stream.stop_stream()\n",
    "    stream.close()\n",
    "    p.terminate()\n",
    "    return background\n",
    "\n",
    "def record(background):\n",
    "    #initialize parameters for recording with pyaudio\n",
    "    CHUNK = 1600\n",
    "    resolution = pyaudio.paInt16\n",
    "    CHANNELS = 1\n",
    "    sampling_rate = 16000\n",
    "    \n",
    "    #initialize parameters for classifying frames\n",
    "    forgetfactor = 1\n",
    "    isSpeech = False\n",
    "    level = 0\n",
    "    adjustment = 0.05\n",
    "    threshold = 1.2\n",
    "    init = 0\n",
    "    count = 0\n",
    "    frame_num = 0\n",
    "    \n",
    "    p=pyaudio.PyAudio()\n",
    "    stream = p.open(format=resolution, channels=CHANNELS, rate=sampling_rate, input=True, frames_per_buffer=CHUNK)\n",
    "    frames=[]\n",
    "    intframes=[]\n",
    "    while True:\n",
    "        #get data\n",
    "        data = stream.read(10)\n",
    "        frames.append(data)\n",
    "        np_array=np.array(data)\n",
    "        \n",
    "        #convert hexadecimal numbers to decimal ones\n",
    "        int_np_array=np.frombuffer(np_array, np.int16)\n",
    "        for i in int_np_array:\n",
    "            intframes.append(i)\n",
    "        int_64 = np.array(int_np_array,dtype='int64')\n",
    "        energy=10*np.log10((np.square(int_64)))\n",
    "        \n",
    "        #initialize background and level\n",
    "        if init==0:\n",
    "            init+=1\n",
    "            level=energy[0]\n",
    "        energy=np.mean(energy)\n",
    "\n",
    "        #adaptive endpointing algo\n",
    "        current=energy\n",
    "        level=((level*forgetfactor)+current)/(1+forgetfactor)\n",
    "        if(current<background):\n",
    "            background=current\n",
    "        else:\n",
    "            background+=(current-background)*adjustment\n",
    "        if(level<background): level=background\n",
    "        if(level-background>threshold):\n",
    "            count=0\n",
    "            isSpeech = True\n",
    "        else: count+=1\n",
    "        if count>5: isSpeech=False\n",
    "        print((level,background,level-background))\n",
    "        \n",
    "        #recording end condition\n",
    "        if not isSpeech and init==1:\n",
    "            print(\"stop recording\")\n",
    "            stream.stop_stream()\n",
    "            stream.close()\n",
    "            p.terminate()\n",
    "            break\n",
    "    return intframes\n",
    "\n",
    "def listen():\n",
    "    intframes=[]\n",
    "    while True:\n",
    "        if keyboard.is_pressed(Start_key):\n",
    "            print('start')\n",
    "            background=record_background()\n",
    "            intframes=record(background)\n",
    "            break\n",
    "    return intframes"
   ]
  },
  {
   "cell_type": "code",
   "execution_count": 3,
   "id": "259bcabc-5b7f-48bb-b705-ce69b56adcd9",
   "metadata": {},
   "outputs": [
    {
     "name": "stdout",
     "output_type": "stream",
     "text": [
      "start\n"
     ]
    },
    {
     "name": "stderr",
     "output_type": "stream",
     "text": [
      "C:\\Users\\Song Eugene\\AppData\\Local\\Temp\\ipykernel_28356\\2646598895.py:29: RuntimeWarning: divide by zero encountered in log10\n",
      "  energy=10*np.log10((np.square(int_64)))\n"
     ]
    },
    {
     "name": "stdout",
     "output_type": "stream",
     "text": [
      "(-inf, nan, nan)\n",
      "stop recording\n"
     ]
    },
    {
     "name": "stderr",
     "output_type": "stream",
     "text": [
      "C:\\Users\\Song Eugene\\AppData\\Local\\Temp\\ipykernel_28356\\2646598895.py:70: RuntimeWarning: divide by zero encountered in log10\n",
      "  energy=10*np.log10((np.square(int_64)))\n",
      "C:\\Users\\Song Eugene\\AppData\\Local\\Temp\\ipykernel_28356\\2646598895.py:84: RuntimeWarning: invalid value encountered in scalar subtract\n",
      "  background+=(current-background)*adjustment\n"
     ]
    }
   ],
   "source": [
    "intframes=listen()"
   ]
  },
  {
   "cell_type": "code",
   "execution_count": 4,
   "id": "a8c003e8-e107-4b73-9fd2-45247fd47394",
   "metadata": {},
   "outputs": [
    {
     "name": "stdout",
     "output_type": "stream",
     "text": [
      "[0, 0, -1, 0, 0, 0, 0, -1, 0, 0]\n"
     ]
    }
   ],
   "source": [
    "print(intframes)\n",
    "#print(10*np.log(np.sum(np.square(intframes[-1]))))"
   ]
  },
  {
   "cell_type": "code",
   "execution_count": 5,
   "id": "3abbde78-ce0e-45de-98b4-94263d1e7537",
   "metadata": {},
   "outputs": [
    {
     "data": {
      "text/html": [
       "\n",
       "                <audio  controls=\"controls\" >\n",
       "                    <source src=\"data:audio/wav;base64,UklGRjgAAABXQVZFZm10IBAAAAABAAEAgD4AAAB9AAACABAAZGF0YRQAAAAAAAAAAYAAAAAAAAAAAAGAAAAAAA==\" type=\"audio/wav\" />\n",
       "                    Your browser does not support the audio element.\n",
       "                </audio>\n",
       "              "
      ],
      "text/plain": [
       "<IPython.lib.display.Audio object>"
      ]
     },
     "execution_count": 5,
     "metadata": {},
     "output_type": "execute_result"
    }
   ],
   "source": [
    "import IPython.display as ipd\n",
    "ipd.Audio(intframes,rate=16000)"
   ]
  }
 ],
 "metadata": {
  "kernelspec": {
   "display_name": "Python 3 (ipykernel)",
   "language": "python",
   "name": "python3"
  },
  "language_info": {
   "codemirror_mode": {
    "name": "ipython",
    "version": 3
   },
   "file_extension": ".py",
   "mimetype": "text/x-python",
   "name": "python",
   "nbconvert_exporter": "python",
   "pygments_lexer": "ipython3",
   "version": "3.11.5"
  }
 },
 "nbformat": 4,
 "nbformat_minor": 5
}
